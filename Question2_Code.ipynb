{
 "cells": [
  {
   "cell_type": "markdown",
   "metadata": {},
   "source": [
    "# Samruth Vennapusala\n",
    "## Question 2\n",
    "## January 16, 2022"
   ]
  },
  {
   "cell_type": "markdown",
   "metadata": {},
   "source": [
    "<h1><center>------------------------Question 2------------------------</center></h1>   "
   ]
  },
  {
   "cell_type": "markdown",
   "metadata": {},
   "source": [
    "For this question you’ll need to use SQL. Follow this link to access the data set required for the challenge. Please use queries to answer the following questions. Paste your queries along with your final numerical answers below.\n",
    "\n",
    "a) __How many orders were shipped by Speedy Express in total?__  \n",
    "b) __What is the last name of the employee with the most orders?__  \n",
    "c) __What product was ordered the most by customers in Germany?__  \n"
   ]
  },
  {
   "cell_type": "markdown",
   "metadata": {},
   "source": [
    "<center>---------------------------------------------Answers---------------------------------------------</center>"
   ]
  },
  {
   "cell_type": "markdown",
   "metadata": {},
   "source": [
    "### a) How many orders were shipped by Speedy Express in total?"
   ]
  },
  {
   "cell_type": "markdown",
   "metadata": {},
   "source": [
    "### Query:\n",
    "\n",
    "    SELECT COUNT(*) FROM [Orders]  \n",
    "    WHERE [ShipperID] IS 1\n"
   ]
  },
  {
   "cell_type": "markdown",
   "metadata": {},
   "source": [
    "__Output: 54__\n",
    "\n",
    "Speedy Express had a total of 54 orders shipped."
   ]
  },
  {
   "cell_type": "markdown",
   "metadata": {},
   "source": [
    "### b) What is the last name of the employee with the most orders?"
   ]
  },
  {
   "cell_type": "markdown",
   "metadata": {},
   "source": [
    "### Query:\n",
    "\n",
    "    SELECT Orders.EmployeeID, LastName, count(Orders.OrderID) FROM [Employees]  \n",
    "    INNER JOIN Orders ON Employees.EmployeeID=Orders.EmployeeID  \n",
    "    GROUP BY Orders.EmployeeID   \n",
    "    ORDER BY COUNT(Orders.OrderID) DESC LIMIT 1  "
   ]
  },
  {
   "cell_type": "markdown",
   "metadata": {},
   "source": [
    "__Output: Peacock__\n",
    "\n",
    "The last name fo the employee with the most orders is Peacock."
   ]
  },
  {
   "cell_type": "markdown",
   "metadata": {},
   "source": [
    "### c) What product was ordered the most by customers in Germany?"
   ]
  },
  {
   "cell_type": "markdown",
   "metadata": {},
   "source": [
    "### Query:\n",
    "    SELECT Products.ProductID,ProductName,Country,SUM(OrderDetails.Quantity),COUNT(Products.ProductID)  \n",
    "    FROM (Customers INNER JOIN Orders ON Customers.CustomerID = Orders.CustomerID   \n",
    "            INNER JOIN OrderDetails ON Orders.OrderID = OrderDetails.OrderID  \n",
    "            INNER JOIN Products ON OrderDetails.ProductID = Products.ProductID)  \n",
    "            WHERE Country IN  (\"Germany\")  \n",
    "    GROUP BY Products.ProductID   \n",
    "    ORDER BY COUNT(Products.ProductID) DESC LIMIT 1\n",
    "    \n",
    "    or\n",
    "    \n",
    "    FROM (Customers INNER JOIN Orders ON Customers.CustomerID = Orders.CustomerID   \n",
    "        INNER JOIN OrderDetails ON Orders.OrderID = OrderDetails.OrderID  \n",
    "        INNER JOIN Products ON OrderDetails.ProductID = Products.ProductID)  \n",
    "        WHERE Country IN  (\"Germany\")  \n",
    "    GROUP BY Products.ProductID   \n",
    "    ORDER BY SUM(OrderDetails.Quantity) DESC LIMIT 1\n",
    "\n"
   ]
  },
  {
   "cell_type": "markdown",
   "metadata": {},
   "source": [
    "Most products ordered with regards to number of transactions:\n",
    "\n",
    "__Output: ProductName = Gorgonzola Telino, ProductID = 31__\n",
    "    \n",
    "The product that was ordered the most by customers in Germany was Gorgonzola Telino (ProductID = 31), with a total of 5 orders (number of transactions).\n",
    "\n",
    "Most products ordered with regards to Quantity of items:\n",
    "\n",
    "__Output: ProductName = Boston Crab Meat, ProductID = 40__  \n",
    "\n",
    "The product that was ordered the most by customers in Germany was Boston Crab Meat (ProductID = 40), with a total of 160 orders (quantity of items).\n",
    "\n"
   ]
  }
 ],
 "metadata": {
  "kernelspec": {
   "display_name": "Python 3",
   "language": "python",
   "name": "python3"
  },
  "language_info": {
   "codemirror_mode": {
    "name": "ipython",
    "version": 3
   },
   "file_extension": ".py",
   "mimetype": "text/x-python",
   "name": "python",
   "nbconvert_exporter": "python",
   "pygments_lexer": "ipython3",
   "version": "3.7.6"
  }
 },
 "nbformat": 4,
 "nbformat_minor": 4
}
