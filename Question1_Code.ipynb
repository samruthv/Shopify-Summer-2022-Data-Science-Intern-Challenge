{
 "cells": [
  {
   "cell_type": "markdown",
   "metadata": {},
   "source": [
    "# Samruth Vennapusala\n",
    "## Question 1\n",
    "## January 16, 2022"
   ]
  },
  {
   "cell_type": "code",
   "execution_count": 10,
   "metadata": {},
   "outputs": [],
   "source": [
    "import numpy as np\n",
    "import pandas as pd\n",
    "from scipy import stats\n",
    "import seaborn as sns\n",
    "from numpy import percentile\n",
    "import matplotlib.pyplot as plt\n",
    "import statistics"
   ]
  },
  {
   "cell_type": "markdown",
   "metadata": {},
   "source": [
    "<h1><center>------------------------Question 1------------------------</center></h1>   "
   ]
  },
  {
   "cell_type": "markdown",
   "metadata": {},
   "source": [
    "_Given some sample data, write a program to answer the following: click here to access the required data set_\n",
    "\n",
    "On Shopify, we have exactly 100 sneaker shops, and each of these shops sells only one model of shoe. We want to do some analysis of the average order value (AOV). When we look at orders data over a 30 day window, we naively calculate an AOV of $3145.13. Given that we know these shops are selling sneakers, a relatively affordable item, something seems wrong with our analysis\n",
    "\n",
    "a) __Think about what could be going wrong with our calculation. Think about a better way to evaluate this data.__  \n",
    "b) __What metric would you report for this dataset?__  \n",
    "c) __What is its value?__\n",
    "\n"
   ]
  },
  {
   "cell_type": "markdown",
   "metadata": {},
   "source": [
    "<center>---------------------------------------------Data Analysis---------------------------------------------</center>"
   ]
  },
  {
   "cell_type": "code",
   "execution_count": 2,
   "metadata": {},
   "outputs": [
    {
     "data": {
      "text/html": [
       "<div>\n",
       "<style scoped>\n",
       "    .dataframe tbody tr th:only-of-type {\n",
       "        vertical-align: middle;\n",
       "    }\n",
       "\n",
       "    .dataframe tbody tr th {\n",
       "        vertical-align: top;\n",
       "    }\n",
       "\n",
       "    .dataframe thead th {\n",
       "        text-align: right;\n",
       "    }\n",
       "</style>\n",
       "<table border=\"1\" class=\"dataframe\">\n",
       "  <thead>\n",
       "    <tr style=\"text-align: right;\">\n",
       "      <th></th>\n",
       "      <th>order_id</th>\n",
       "      <th>shop_id</th>\n",
       "      <th>user_id</th>\n",
       "      <th>order_amount</th>\n",
       "      <th>total_items</th>\n",
       "      <th>payment_method</th>\n",
       "      <th>created_at</th>\n",
       "    </tr>\n",
       "  </thead>\n",
       "  <tbody>\n",
       "    <tr>\n",
       "      <th>0</th>\n",
       "      <td>1</td>\n",
       "      <td>53</td>\n",
       "      <td>746</td>\n",
       "      <td>224</td>\n",
       "      <td>2</td>\n",
       "      <td>cash</td>\n",
       "      <td>2017-03-13 12:36:56</td>\n",
       "    </tr>\n",
       "    <tr>\n",
       "      <th>1</th>\n",
       "      <td>2</td>\n",
       "      <td>92</td>\n",
       "      <td>925</td>\n",
       "      <td>90</td>\n",
       "      <td>1</td>\n",
       "      <td>cash</td>\n",
       "      <td>2017-03-03 17:38:52</td>\n",
       "    </tr>\n",
       "    <tr>\n",
       "      <th>2</th>\n",
       "      <td>3</td>\n",
       "      <td>44</td>\n",
       "      <td>861</td>\n",
       "      <td>144</td>\n",
       "      <td>1</td>\n",
       "      <td>cash</td>\n",
       "      <td>2017-03-14 4:23:56</td>\n",
       "    </tr>\n",
       "    <tr>\n",
       "      <th>3</th>\n",
       "      <td>4</td>\n",
       "      <td>18</td>\n",
       "      <td>935</td>\n",
       "      <td>156</td>\n",
       "      <td>1</td>\n",
       "      <td>credit_card</td>\n",
       "      <td>2017-03-26 12:43:37</td>\n",
       "    </tr>\n",
       "    <tr>\n",
       "      <th>4</th>\n",
       "      <td>5</td>\n",
       "      <td>18</td>\n",
       "      <td>883</td>\n",
       "      <td>156</td>\n",
       "      <td>1</td>\n",
       "      <td>credit_card</td>\n",
       "      <td>2017-03-01 4:35:11</td>\n",
       "    </tr>\n",
       "  </tbody>\n",
       "</table>\n",
       "</div>"
      ],
      "text/plain": [
       "   order_id  shop_id  user_id  order_amount  total_items payment_method  \\\n",
       "0         1       53      746           224            2           cash   \n",
       "1         2       92      925            90            1           cash   \n",
       "2         3       44      861           144            1           cash   \n",
       "3         4       18      935           156            1    credit_card   \n",
       "4         5       18      883           156            1    credit_card   \n",
       "\n",
       "            created_at  \n",
       "0  2017-03-13 12:36:56  \n",
       "1  2017-03-03 17:38:52  \n",
       "2   2017-03-14 4:23:56  \n",
       "3  2017-03-26 12:43:37  \n",
       "4   2017-03-01 4:35:11  "
      ]
     },
     "execution_count": 2,
     "metadata": {},
     "output_type": "execute_result"
    }
   ],
   "source": [
    "# Import and print data\n",
    "\n",
    "\n",
    "test_data_path = r\"C:/Users/samru/Desktop/Data_Set.csv\"\n",
    "df = pd.read_csv(test_data_path)\n",
    "df.head()"
   ]
  },
  {
   "cell_type": "code",
   "execution_count": 3,
   "metadata": {},
   "outputs": [
    {
     "data": {
      "text/plain": [
       "count      5000.000000\n",
       "mean       3145.128000\n",
       "std       41282.539349\n",
       "min          90.000000\n",
       "25%         163.000000\n",
       "50%         284.000000\n",
       "75%         390.000000\n",
       "max      704000.000000\n",
       "Name: order_amount, dtype: float64"
      ]
     },
     "execution_count": 3,
     "metadata": {},
     "output_type": "execute_result"
    }
   ],
   "source": [
    "# Finding the AOV of the order_amount and other descriptions\n",
    "\n",
    "\n",
    "df['order_amount'].describe()"
   ]
  },
  {
   "cell_type": "code",
   "execution_count": 4,
   "metadata": {},
   "outputs": [
    {
     "name": "stdout",
     "output_type": "stream",
     "text": [
      "(200, 400]           2021\n",
      "(0, 200]             1808\n",
      "(400, 600]            872\n",
      "(600, 800]            199\n",
      "(800, 1000]            29\n",
      "(50000, 100000]        25\n",
      "(20000, 50000]         19\n",
      "(100000, 1000000]      19\n",
      "(1000, 1200]            5\n",
      "(1400, 1600]            2\n",
      "(1600, 1800]            1\n",
      "(1200, 1400]            0\n",
      "(1800, 2000]            0\n",
      "(2000, 5000]            0\n",
      "(5000, 10000]           0\n",
      "(10000, 20000]          0\n",
      "Name: binned, dtype: int64\n"
     ]
    }
   ],
   "source": [
    "# Bin the data to show the order_amount distribution\n",
    "\n",
    "\n",
    "bins = [0, 200, 400, 600, 800, 1000, 1200, 1400, 1600, 1800, 2000, 5000, 10000, 20000, 50000, 100000,1000000]\n",
    "df['binned'] = pd.cut(df['order_amount'], bins)\n",
    "graph=df['binned'].value_counts()\n",
    "print(graph)\n"
   ]
  },
  {
   "cell_type": "code",
   "execution_count": 23,
   "metadata": {
    "scrolled": false
   },
   "outputs": [
    {
     "data": {
      "image/png": "[encoded data removed]",
      "text/plain": [
       "<Figure size 720x720 with 1 Axes>"
      ]
     },
     "metadata": {
      "needs_background": "light"
     },
     "output_type": "display_data"
    },
    {
     "name": "stdout",
     "output_type": "stream",
     "text": [
      "\n",
      "\n"
     ]
    },
    {
     "data": {
      "image/png": "[encoded data removed]",
      "text/plain": [
       "<Figure size 720x720 with 1 Axes>"
      ]
     },
     "metadata": {
      "needs_background": "light"
     },
     "output_type": "display_data"
    },
    {
     "name": "stdout",
     "output_type": "stream",
     "text": [
      "X : \n",
      " 0       224\n",
      "1        90\n",
      "2       144\n",
      "3       156\n",
      "4       156\n",
      "       ... \n",
      "4995    330\n",
      "4996    234\n",
      "4997    351\n",
      "4998    354\n",
      "4999    288\n",
      "Name: order_amount, Length: 5000, dtype: int64\n",
      "\n",
      "Skewness for data :  16.670030505539835\n"
     ]
    }
   ],
   "source": [
    "# Visualizations\n",
    "\n",
    "### Histogram Code\n",
    "\n",
    "\n",
    "fig = plt.figure()\n",
    "fig.suptitle('(Histagram) Orders above AOV and Orders below AOV', fontsize=14, fontweight='bold')\n",
    "ax = fig.add_axes([0,0,1,1])\n",
    "bins = [\"(0, 200]\",\"(200, 400]\",\"(400, 600]\",\"(600, 1000]\",\"(800, 1000]\",\"(1000, 1200]\",\"(1200, 1400]\",\"(1400, 1600]\",\"(1600, 1800]\",\"(1800, 2000]\",\"(2000, 5000]\",\"(5000, 10000]\",\"(10000, 20000]\",\"(20000, 50000]\",\"(50000, 100000]\",\"(100000, 1000000]\"]\n",
    "value = [1808, 2021,872,199, 29,5,0,2,1,0,0,0,0,19,25,19]\n",
    "ax.bar(bins,value)\n",
    "\n",
    "ax.set_ylabel('COUNT')\n",
    "ax.set_xlabel('ORDER VALUE BINS')\n",
    "x_pos = np.arange(len(bins))\n",
    "plt.bar(x_pos, value, color=['cyan','cyan','cyan','cyan','cyan','cyan','cyan','cyan','cyan','cyan','cyan','cyan','cyan','red','red','red'])\n",
    "\n",
    "colors = {'BELOW AOV':'cyan', 'ABOVE AOV':'red'}         \n",
    "labels = list(colors.keys())\n",
    "handles = [plt.Rectangle((0,0),2,2, color=colors[label]) for label in labels]\n",
    "plt.legend(handles, labels)\n",
    "\n",
    "plt.xticks(rotation = 90)\n",
    "plt.show()\n",
    "print(\"\\n\")\n",
    "\n",
    "\n",
    "\n",
    "\n",
    "### Boxplot Code\n",
    "\n",
    "\n",
    "fig = plt.figure()\n",
    "fig.suptitle('Box-plot of Order Amounts (log Scaled)', fontsize=14, fontweight='bold')\n",
    "\n",
    "\n",
    "plt.rcParams[\"figure.figsize\"] = (10,10)\n",
    "red_circle = dict(markerfacecolor='red', marker='o')\n",
    "mean_shape = dict(markerfacecolor='green', marker='D', markeredgecolor='blue')\n",
    "df['order_amount'].plot(kind='box',flierprops=red_circle, \n",
    "             showmeans=True, meanprops=mean_shape)\n",
    "\n",
    "\n",
    "\n",
    "\n",
    "colors = {'OUTLIERS':'red', 'AOV':'blue'}         \n",
    "labels = list(colors.keys())\n",
    "handles = [plt.Rectangle((0,0),2,2, color=colors[label]) for label in labels]\n",
    "plt.legend(handles, labels)\n",
    "\n",
    "plt.semilogy()\n",
    "plt.show()\n",
    "\n",
    "\n",
    "\n",
    "\n",
    "### finding Skewness\n",
    "\n",
    "  \n",
    "from scipy.stats import skew\n",
    "\n",
    "  \n",
    "# random values based on a normal distribution\n",
    "x = df['order_amount']\n",
    "  \n",
    "print (\"X : \\n\", x)\n",
    "  \n",
    "print('\\nSkewness for data : ', skew(x))"
   ]
  },
  {
   "cell_type": "code",
   "execution_count": 14,
   "metadata": {},
   "outputs": [
    {
     "data": {
      "text/plain": [
       "count      5000.000000\n",
       "mean       3145.128000\n",
       "std       41282.539349\n",
       "min          90.000000\n",
       "25%         163.000000\n",
       "50%         284.000000\n",
       "75%         390.000000\n",
       "max      704000.000000\n",
       "Name: order_amount, dtype: float64"
      ]
     },
     "execution_count": 14,
     "metadata": {},
     "output_type": "execute_result"
    }
   ],
   "source": [
    "# discription of the order_amount data\n",
    "\n",
    "\n",
    "df['order_amount'].describe()"
   ]
  },
  {
   "cell_type": "markdown",
   "metadata": {},
   "source": [
    "__Mean__ = $3,145.13"
   ]
  },
  {
   "cell_type": "markdown",
   "metadata": {},
   "source": [
    "<center>---------------------------------------------Answers---------------------------------------------</center>"
   ]
  },
  {
   "cell_type": "markdown",
   "metadata": {},
   "source": [
    "### a) Think about what could be going wrong with our calculation. Think about a better way to evaluate this data. "
   ]
  },
  {
   "cell_type": "markdown",
   "metadata": {},
   "source": [
    "In this case, the fundamental issue of using the average order value (mean) is that the mean is not the best method to evaluate a skewed distribution. The Histogram visualizes this skewness, and the boxplot shows that the AOV is above the max of the boxplot and with the outliers. Distributions that have a skewness value <-1 or >1 are typically classified as \"skewed\". We get a __skewness of 16.67__ for our order amount data. So, it is clear that the AOV is not the best metric to portray this data.\n",
    "\n",
    "__What is a better way to evaluate this data?__\n",
    "\n",
    "We need a metric that is the best measure of central tendency when the data is skewed."
   ]
  },
  {
   "cell_type": "markdown",
   "metadata": {},
   "source": [
    "### b) What metric would you report for this dataset?"
   ]
  },
  {
   "cell_type": "markdown",
   "metadata": {},
   "source": [
    "__The _median_ is generally considered to be the best representative of the central location of the data when you are dealing with skewed data.__ The more skewed the distribution, the greater the difference between the median and mean, and the greater emphasis should be placed on using the median as opposed to the mean."
   ]
  },
  {
   "cell_type": "markdown",
   "metadata": {},
   "source": [
    "__Median__ = $284.00  \n",
    "_The median value is derived from the describe cell above. 50th percentile is the median._"
   ]
  },
  {
   "cell_type": "markdown",
   "metadata": {},
   "source": [
    "### c) What is its value?"
   ]
  },
  {
   "cell_type": "markdown",
   "metadata": {},
   "source": [
    "The medium of this data is $284.00. This number makes a lot more sense when you answer the following question.\n",
    "\n",
    "__How much does the typical customer spend at the sneaker shops?__\n",
    "\n",
    "__The typical customer spends $284.00 at the Shopify sneaker shops.__\n",
    "\n",
    "_(The mean of $3,145.13 does not represent the central tendency of purchases by the customers.)_\n",
    "\n"
   ]
  },
  {
   "cell_type": "markdown",
   "metadata": {},
   "source": [
    "<h1><center>------------------------Thanks!------------------------</center></h1>   "
   ]
  },
  {
   "cell_type": "markdown",
   "metadata": {},
   "source": [
    "__Hello Hiring Manager,__\n",
    "\n",
    "__Here is the link to my winter 2021-2022 challenge submission if you want to check it out! Lots changed since then :)__\n",
    "\n",
    "https://github.com/samruthv/Shopify_Challenge/blob/main/Shopify%20Data%20Challenge.ipynb"
   ]
  },
  {
   "cell_type": "markdown",
   "metadata": {},
   "source": [
    "### Resources:  \n",
    "    https://jobs.smartrecruiters.com/Shopify/743999796500238-data-science-intern-summer-2022-remote-us-canada-  \n",
    "    https://matplotlib.org/     \n",
    "    https://www.ibm.com/docs/en/db2-event-store/2.0.0?topic=notebooks-markdown-jupyter-cheatsheet  "
   ]
  }
 ],
 "metadata": {
  "kernelspec": {
   "display_name": "Python 3",
   "language": "python",
   "name": "python3"
  },
  "language_info": {
   "codemirror_mode": {
    "name": "ipython",
    "version": 3
   },
   "file_extension": ".py",
   "mimetype": "text/x-python",
   "name": "python",
   "nbconvert_exporter": "python",
   "pygments_lexer": "ipython3",
   "version": "3.7.6"
  }
 },
 "nbformat": 4,
 "nbformat_minor": 4
}
